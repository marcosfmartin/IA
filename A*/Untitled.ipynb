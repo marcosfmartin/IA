{
 "cells": [
  {
   "cell_type": "code",
   "execution_count": 1,
   "metadata": {},
   "outputs": [],
   "source": [
    "import numpy as np\n",
    "import random\n",
    "import copy"
   ]
  },
  {
   "cell_type": "code",
   "execution_count": 185,
   "metadata": {},
   "outputs": [],
   "source": [
    "def create_matrix (dimension):\n",
    "    table = []\n",
    "    k=1\n",
    "    for i in range(0,dimension):\n",
    "            table.append([])\n",
    "            for j in range(0, dimension):\n",
    "                table[i].append(k)\n",
    "                k+=1\n",
    "    table[-1][-1]=None\n",
    "    return table\n",
    "       \n",
    "\n",
    "\n",
    "def find_blank (table):\n",
    "    for i in range(len(table[0])):\n",
    "        for j in range(len(table)):\n",
    "            if table[i][j] == None:\n",
    "                return i,j\n",
    "\n",
    "\n",
    "\n",
    "def get_moves(table):\n",
    "        \n",
    "        pos = find_blank(table)\n",
    "        moves = [\n",
    "            (pos[0], pos[1]-1), #pra cima\n",
    "            (pos[0], pos[1]+1), #pra baixo\n",
    "            (pos[0]-1, pos[1]), #pra esquerda\n",
    "            (pos[0]+1, pos[1]) #pra direita\n",
    "        ]\n",
    "        #movimentos que saem do tabuleiro\n",
    "        moves = filter(lambda x: (x[0] >= 0 and x[1] >= 0 and x[0] < len(table)\n",
    "                and x[1] < len(table)), moves)\n",
    "        \n",
    "        return list(moves)\n",
    "    \n",
    "def make_move (pos_value, table, moves):\n",
    "    #move branco para pos e põe o numero que estava lá no lugar do branco\n",
    "    pos_none = find_blank(table)\n",
    "    if pos_value in moves:\n",
    "            temp = table [pos_value[0]][pos_value[1]]\n",
    "            table[pos_value[0]][pos_value[1]] = None\n",
    "            table[pos_none[0]][pos_none[1]] = temp\n",
    "    return table\n",
    "\n",
    "def shuffle (table):\n",
    "    #faz movimentos aleatórios para embaralhar a tabela\n",
    "    for i in range (0, 50):\n",
    "        moves = get_moves(table)\n",
    "        make_move(random.choice(moves), table)\n",
    "    return table\n",
    "\n",
    "\n",
    "class Node:\n",
    "    \n",
    "    def __init__(self, table,parent = None):\n",
    "        \n",
    "        #pai do nó\n",
    "        self.parent = parent\n",
    "        \n",
    "        #tabuleiro\n",
    "        self.table = table\n",
    "        \n",
    "        #lista de filhos\n",
    "        self.children = list()\n",
    "    \n",
    "    \"\"\"\n",
    "    Funçaõ para adicionar filhos ao nó, deve-se passar apenas o conteudo do filho\n",
    "    \"\"\"\n",
    "    def add(self, table):\n",
    "        child = Node(table, parent=self)\n",
    "        if not_equal(child):\n",
    "            self.children.append(child)\n",
    "        \n",
    "    \n",
    "    #compara dois tabuleiros\n",
    "    def equal(self, table):\n",
    "        \n",
    "        return (self.table == outro.table)\n",
    "\n",
    "def not_equal(node):\n",
    "    current = node.parent\n",
    "    while current != None:\n",
    "        if node.table == current.table:\n",
    "            return True\n",
    "        current = current.parent\n",
    "    return False\n",
    "\n",
    "def generate_children(node):\n",
    "    moves = get_moves(node.table)\n",
    "    for i in range (0, len(moves)):\n",
    "        child_table = make_move(moves[i], node.table, moves)\n",
    "        node.add(child_table)\n",
    "        #print(child_table)"
   ]
  },
  {
   "cell_type": "code",
   "execution_count": 186,
   "metadata": {},
   "outputs": [],
   "source": [
    "table = Node(create_matrix(3))\n",
    "generate_children(table)"
   ]
  },
  {
   "cell_type": "code",
   "execution_count": 187,
   "metadata": {},
   "outputs": [
    {
     "data": {
      "text/plain": [
       "[<__main__.Node at 0x7f4909eb7358>, <__main__.Node at 0x7f491816f710>]"
      ]
     },
     "execution_count": 187,
     "metadata": {},
     "output_type": "execute_result"
    }
   ],
   "source": []
  },
  {
   "cell_type": "code",
   "execution_count": null,
   "metadata": {},
   "outputs": [],
   "source": []
  },
  {
   "cell_type": "code",
   "execution_count": 3,
   "metadata": {},
   "outputs": [],
   "source": []
  },
  {
   "cell_type": "code",
   "execution_count": 4,
   "metadata": {},
   "outputs": [
    {
     "name": "stdout",
     "output_type": "stream",
     "text": [
      "oi\n"
     ]
    }
   ],
   "source": []
  },
  {
   "cell_type": "code",
   "execution_count": 5,
   "metadata": {},
   "outputs": [],
   "source": []
  },
  {
   "cell_type": "code",
   "execution_count": 6,
   "metadata": {},
   "outputs": [
    {
     "name": "stdout",
     "output_type": "stream",
     "text": [
      "[[0, 1, 2], [3, 4, 5], [6, 7, None]]\n",
      "oi\n",
      "oi\n",
      "[[0, 1, 2], [3, 4, 5], [6, None, 7]]\n"
     ]
    }
   ],
   "source": []
  },
  {
   "cell_type": "code",
   "execution_count": null,
   "metadata": {},
   "outputs": [],
   "source": []
  },
  {
   "cell_type": "code",
   "execution_count": null,
   "metadata": {},
   "outputs": [],
   "source": []
  },
  {
   "cell_type": "code",
   "execution_count": null,
   "metadata": {},
   "outputs": [],
   "source": []
  }
 ],
 "metadata": {
  "kernelspec": {
   "display_name": "Python 3",
   "language": "python",
   "name": "python3"
  },
  "language_info": {
   "codemirror_mode": {
    "name": "ipython",
    "version": 3
   },
   "file_extension": ".py",
   "mimetype": "text/x-python",
   "name": "python",
   "nbconvert_exporter": "python",
   "pygments_lexer": "ipython3",
   "version": "3.7.3"
  }
 },
 "nbformat": 4,
 "nbformat_minor": 2
}
